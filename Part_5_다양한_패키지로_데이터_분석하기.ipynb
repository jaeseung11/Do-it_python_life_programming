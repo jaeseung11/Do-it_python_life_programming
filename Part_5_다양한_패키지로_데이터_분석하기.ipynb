{
  "nbformat": 4,
  "nbformat_minor": 0,
  "metadata": {
    "colab": {
      "provenance": [],
      "authorship_tag": "ABX9TyPL33/Lx+AMLaslb2HWisUv"
    },
    "kernelspec": {
      "name": "python3",
      "display_name": "Python 3"
    },
    "language_info": {
      "name": "python"
    }
  },
  "cells": [
    {
      "cell_type": "code",
      "source": [
        "from google.colab import drive\n",
        "drive.mount('/content/drive')\n",
        "\n"
      ],
      "metadata": {
        "colab": {
          "base_uri": "https://localhost:8080/"
        },
        "id": "BLspR_Uxo3oC",
        "outputId": "e5ceda11-b28a-44fd-d208-fc07aed6105c"
      },
      "execution_count": 10,
      "outputs": [
        {
          "output_type": "stream",
          "name": "stdout",
          "text": [
            "Mounted at /content/drive\n"
          ]
        }
      ]
    },
    {
      "cell_type": "code",
      "execution_count": 1,
      "metadata": {
        "id": "c7rOfKaei0oK"
      },
      "outputs": [],
      "source": [
        "import numpy as np\n",
        "\n",
        "\n",
        "# 넘파이 함수에 인풋 값은 거의 (행,열) 이라고 보면 된다. 행령 함수이다. 즉 계산도 행렬의 원소끼리 계산한다. 꼭 기억 (행, 열)  (열,)"
      ]
    },
    {
      "cell_type": "code",
      "source": [
        "a = np.array([[2,3], [5,2], [3,4]])"
      ],
      "metadata": {
        "id": "i1JShjK2jIoO"
      },
      "execution_count": 3,
      "outputs": []
    },
    {
      "cell_type": "code",
      "source": [
        "a"
      ],
      "metadata": {
        "colab": {
          "base_uri": "https://localhost:8080/"
        },
        "id": "iVfOgr4djW6s",
        "outputId": "b0d516bf-7575-4d17-fd47-99a9d9cd0a8e"
      },
      "execution_count": 4,
      "outputs": [
        {
          "output_type": "execute_result",
          "data": {
            "text/plain": [
              "array([[2, 3],\n",
              "       [5, 2],\n",
              "       [3, 4]])"
            ]
          },
          "metadata": {},
          "execution_count": 4
        }
      ]
    },
    {
      "cell_type": "code",
      "source": [
        "# 0으로 이뤄진 배열을 만든다\n",
        "\n",
        "np.zeros((2,10))"
      ],
      "metadata": {
        "colab": {
          "base_uri": "https://localhost:8080/"
        },
        "id": "OXTd24YPkRxQ",
        "outputId": "fb1e6680-4656-4a35-8897-d85f8b7fcb85"
      },
      "execution_count": 5,
      "outputs": [
        {
          "output_type": "execute_result",
          "data": {
            "text/plain": [
              "array([[0., 0., 0., 0., 0., 0., 0., 0., 0., 0.],\n",
              "       [0., 0., 0., 0., 0., 0., 0., 0., 0., 0.]])"
            ]
          },
          "metadata": {},
          "execution_count": 5
        }
      ]
    },
    {
      "cell_type": "code",
      "source": [
        "# 1로 이뤄진 배열을 만든다.\n",
        "\n",
        "np.ones((2,10))"
      ],
      "metadata": {
        "colab": {
          "base_uri": "https://localhost:8080/"
        },
        "id": "YcA04qCckVsb",
        "outputId": "5227e67f-5cd4-4db8-f4e2-682a97610ac6"
      },
      "execution_count": 6,
      "outputs": [
        {
          "output_type": "execute_result",
          "data": {
            "text/plain": [
              "array([[1., 1., 1., 1., 1., 1., 1., 1., 1., 1.],\n",
              "       [1., 1., 1., 1., 1., 1., 1., 1., 1., 1.]])"
            ]
          },
          "metadata": {},
          "execution_count": 6
        }
      ]
    },
    {
      "cell_type": "code",
      "source": [
        "# 특정 범위에 있는 원소를 자동으로 만든다.\n",
        "\n",
        "np.arange(2,10)"
      ],
      "metadata": {
        "colab": {
          "base_uri": "https://localhost:8080/"
        },
        "id": "hsBNXYe6kkwE",
        "outputId": "581c41b4-64b1-46b7-b6ce-23f61429fead"
      },
      "execution_count": 8,
      "outputs": [
        {
          "output_type": "execute_result",
          "data": {
            "text/plain": [
              "array([2, 3, 4, 5, 6, 7, 8, 9])"
            ]
          },
          "metadata": {},
          "execution_count": 8
        }
      ]
    },
    {
      "cell_type": "code",
      "source": [
        "a = np.ones((2,3))\n",
        "\n",
        "b = np.transpose(a)"
      ],
      "metadata": {
        "id": "c17CSNbOk_3r"
      },
      "execution_count": 9,
      "outputs": []
    },
    {
      "cell_type": "code",
      "source": [
        "# 설문지 데이터 전처리 하기\n",
        "\n",
        "# 데이터 전처리란 데이터분석을 좋게 하기 위해 미리 가공하는 일을 말한다.\n",
        "\n",
        "import usecsv\n",
        "\n",
        "os.chdir(r'C:\\Users\\user\\python')  # quest.csv를 저장한 경로로 이동합니다.\n",
        "\n",
        "quest = np.array(usecsv.swich(usecsv.switch(usecsv.opencsv('quest.csv')))  # qeust.csv 파일을 열어 숫자 원소를 실수형으로 바꾼 다음 배열 형태로 quest 객체에 저장합니다.\n",
        "                 \n",
        "quest > 5 # 5 보다 크면 True, 작거나 같으면 False 입니다.\n",
        "\n",
        "quest[quest>5] # 인덱싱을 활용해 5보다 큰수 만 가져온다.\n",
        "\n",
        "quest[quest > 5]  =  5  # 5보다 큰 점수를 만점인 5점으로 바꿉니다.\n",
        "\n",
        "\n",
        "usecsv.writecsv('resultcsv.csv', list(quest)) # 결과물을 다시 'resultcsv.csv' 라는 이름으로 저장합니다. (저장할 이름, 저장할 파일형태)\n",
        "\n",
        "\n"
      ],
      "metadata": {
        "id": "YqvC6sZJozLw"
      },
      "execution_count": null,
      "outputs": []
    },
    {
      "cell_type": "code",
      "source": [
        "# 넘파이는 숫자를 많이 다루는 전문분야, 연구분야, 대규모 데이터 다룰때\n"
      ],
      "metadata": {
        "id": "0BVayJWQs4Pl"
      },
      "execution_count": null,
      "outputs": []
    },
    {
      "cell_type": "code",
      "source": [
        "# 우리가 검토 해야할 사업이 있다고 가정하자, 그 사업의 사업성을 분석하며 넘파이를 제대로 사용하는 방법을 알아보겠습니다.\n",
        "# 사업성 분석이란 간단히 말해 이 사업을 했을때 이익이나 손해가 어느정도 나올지 따져보는 것입니다.\n",
        "# 경제적 타당성은 간다히 말해 이 사업이 우리에게 손실 대비 얼마나 많은 이익을 가져다 줄 수 있는지를 나타내는 개념입니다. 이를 분석하는 순현재가치와 내부수익률입니다.\n",
        "# 순현재가치 할인된 현금 흐름의 값을 모두 더한 값을 말합니다.\n",
        "# 내부수익률: 순현재가치를 0으로 만드는 할인율을 말합니다.\n",
        "\n"
      ],
      "metadata": {
        "id": "IqrWHr_pwCxs"
      },
      "execution_count": null,
      "outputs": []
    },
    {
      "cell_type": "code",
      "source": [
        "# 자본의 현재 가치 구하기\n",
        "\n",
        "discount = 0.05 # 할인율 = 현재가치가 떨어지는 비율\n",
        "cashflow = 100  # 현금흐름은 100(억원) 입니다.\n",
        "\n",
        "\n",
        "def presentvalue(n):\n",
        "    return (cashflow / ((1 + discount) ** n))"
      ],
      "metadata": {
        "id": "HqVvJ9Dfyl0a"
      },
      "execution_count": 33,
      "outputs": []
    },
    {
      "cell_type": "code",
      "source": [
        "for i in range(20):\n",
        "    print(presentvalue(i))"
      ],
      "metadata": {
        "colab": {
          "base_uri": "https://localhost:8080/"
        },
        "id": "9miXSGG_1vhZ",
        "outputId": "569121a5-049d-4985-cb72-bac4f92b5fa5"
      },
      "execution_count": 34,
      "outputs": [
        {
          "output_type": "stream",
          "name": "stdout",
          "text": [
            "100.0\n",
            "95.23809523809524\n",
            "90.70294784580499\n",
            "86.3837598531476\n",
            "82.27024747918819\n",
            "78.35261664684589\n",
            "74.62153966366274\n",
            "71.06813301301213\n",
            "67.6839362028687\n",
            "64.46089162177971\n",
            "61.39132535407592\n",
            "58.46792890864373\n",
            "55.68374181775592\n",
            "53.03213506452945\n",
            "50.506795299551854\n",
            "48.101709809096995\n",
            "45.811152199140004\n",
            "43.62966876108571\n",
            "41.5520654867483\n",
            "39.57339570166504\n"
          ]
        }
      ]
    }
  ]
}