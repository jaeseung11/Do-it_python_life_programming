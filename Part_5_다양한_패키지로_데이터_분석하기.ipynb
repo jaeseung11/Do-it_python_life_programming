{
  "nbformat": 4,
  "nbformat_minor": 0,
  "metadata": {
    "colab": {
      "provenance": [],
      "authorship_tag": "ABX9TyNvqv02+tuI+F6xHRGIHSvx"
    },
    "kernelspec": {
      "name": "python3",
      "display_name": "Python 3"
    },
    "language_info": {
      "name": "python"
    }
  },
  "cells": [
    {
      "cell_type": "code",
      "execution_count": 1,
      "metadata": {
        "id": "c7rOfKaei0oK"
      },
      "outputs": [],
      "source": [
        "import numpy as np\n",
        "\n",
        "\n",
        "# 넘파이 함수에 인풋 값은 거의 (행,열) 이라고 보면 된다. 행령 함수이다. 즉 계산도 행렬의 원소끼리 계산한다. 꼭 기억 (행, 열)  (열,)"
      ]
    },
    {
      "cell_type": "code",
      "source": [
        "a = np.array([[2,3], [5,2], [3,4]])"
      ],
      "metadata": {
        "id": "i1JShjK2jIoO"
      },
      "execution_count": 3,
      "outputs": []
    },
    {
      "cell_type": "code",
      "source": [
        "a"
      ],
      "metadata": {
        "colab": {
          "base_uri": "https://localhost:8080/"
        },
        "id": "iVfOgr4djW6s",
        "outputId": "b0d516bf-7575-4d17-fd47-99a9d9cd0a8e"
      },
      "execution_count": 4,
      "outputs": [
        {
          "output_type": "execute_result",
          "data": {
            "text/plain": [
              "array([[2, 3],\n",
              "       [5, 2],\n",
              "       [3, 4]])"
            ]
          },
          "metadata": {},
          "execution_count": 4
        }
      ]
    },
    {
      "cell_type": "code",
      "source": [
        "# 0으로 이뤄진 배열을 만든다\n",
        "\n",
        "np.zeros((2,10))"
      ],
      "metadata": {
        "colab": {
          "base_uri": "https://localhost:8080/"
        },
        "id": "OXTd24YPkRxQ",
        "outputId": "fb1e6680-4656-4a35-8897-d85f8b7fcb85"
      },
      "execution_count": 5,
      "outputs": [
        {
          "output_type": "execute_result",
          "data": {
            "text/plain": [
              "array([[0., 0., 0., 0., 0., 0., 0., 0., 0., 0.],\n",
              "       [0., 0., 0., 0., 0., 0., 0., 0., 0., 0.]])"
            ]
          },
          "metadata": {},
          "execution_count": 5
        }
      ]
    },
    {
      "cell_type": "code",
      "source": [
        "# 1로 이뤄진 배열을 만든다.\n",
        "\n",
        "np.ones((2,10))"
      ],
      "metadata": {
        "colab": {
          "base_uri": "https://localhost:8080/"
        },
        "id": "YcA04qCckVsb",
        "outputId": "5227e67f-5cd4-4db8-f4e2-682a97610ac6"
      },
      "execution_count": 6,
      "outputs": [
        {
          "output_type": "execute_result",
          "data": {
            "text/plain": [
              "array([[1., 1., 1., 1., 1., 1., 1., 1., 1., 1.],\n",
              "       [1., 1., 1., 1., 1., 1., 1., 1., 1., 1.]])"
            ]
          },
          "metadata": {},
          "execution_count": 6
        }
      ]
    },
    {
      "cell_type": "code",
      "source": [
        "# 특정 범위에 있는 원소를 자동으로 만든다.\n",
        "\n",
        "np.arange(2,10)"
      ],
      "metadata": {
        "colab": {
          "base_uri": "https://localhost:8080/"
        },
        "id": "hsBNXYe6kkwE",
        "outputId": "581c41b4-64b1-46b7-b6ce-23f61429fead"
      },
      "execution_count": 8,
      "outputs": [
        {
          "output_type": "execute_result",
          "data": {
            "text/plain": [
              "array([2, 3, 4, 5, 6, 7, 8, 9])"
            ]
          },
          "metadata": {},
          "execution_count": 8
        }
      ]
    },
    {
      "cell_type": "code",
      "source": [
        "a = np.ones((2,3))\n",
        "\n",
        "b = np.transpose(a)"
      ],
      "metadata": {
        "id": "c17CSNbOk_3r"
      },
      "execution_count": 9,
      "outputs": []
    }
  ]
}