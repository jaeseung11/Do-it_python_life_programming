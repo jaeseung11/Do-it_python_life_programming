{
  "nbformat": 4,
  "nbformat_minor": 0,
  "metadata": {
    "colab": {
      "provenance": [],
      "authorship_tag": "ABX9TyPYhFW4+afitSEonZwsF5kt"
    },
    "kernelspec": {
      "name": "python3",
      "display_name": "Python 3"
    },
    "language_info": {
      "name": "python"
    }
  },
  "cells": [
    {
      "cell_type": "code",
      "source": [
        "from google.colab import drive\n",
        "drive.mount('/content/drive')\n",
        "\n"
      ],
      "metadata": {
        "colab": {
          "base_uri": "https://localhost:8080/"
        },
        "id": "BLspR_Uxo3oC",
        "outputId": "e5ceda11-b28a-44fd-d208-fc07aed6105c"
      },
      "execution_count": 10,
      "outputs": [
        {
          "output_type": "stream",
          "name": "stdout",
          "text": [
            "Mounted at /content/drive\n"
          ]
        }
      ]
    },
    {
      "cell_type": "code",
      "execution_count": 1,
      "metadata": {
        "id": "c7rOfKaei0oK"
      },
      "outputs": [],
      "source": [
        "import numpy as np\n",
        "\n",
        "\n",
        "# 넘파이 함수에 인풋 값은 거의 (행,열) 이라고 보면 된다. 행령 함수이다. 즉 계산도 행렬의 원소끼리 계산한다. 꼭 기억 (행, 열)  (열,)"
      ]
    },
    {
      "cell_type": "code",
      "source": [
        "a = np.array([[2,3], [5,2], [3,4]])"
      ],
      "metadata": {
        "id": "i1JShjK2jIoO"
      },
      "execution_count": 3,
      "outputs": []
    },
    {
      "cell_type": "code",
      "source": [
        "a"
      ],
      "metadata": {
        "colab": {
          "base_uri": "https://localhost:8080/"
        },
        "id": "iVfOgr4djW6s",
        "outputId": "b0d516bf-7575-4d17-fd47-99a9d9cd0a8e"
      },
      "execution_count": 4,
      "outputs": [
        {
          "output_type": "execute_result",
          "data": {
            "text/plain": [
              "array([[2, 3],\n",
              "       [5, 2],\n",
              "       [3, 4]])"
            ]
          },
          "metadata": {},
          "execution_count": 4
        }
      ]
    },
    {
      "cell_type": "code",
      "source": [
        "# 0으로 이뤄진 배열을 만든다\n",
        "\n",
        "np.zeros((2,10))"
      ],
      "metadata": {
        "colab": {
          "base_uri": "https://localhost:8080/"
        },
        "id": "OXTd24YPkRxQ",
        "outputId": "fb1e6680-4656-4a35-8897-d85f8b7fcb85"
      },
      "execution_count": 5,
      "outputs": [
        {
          "output_type": "execute_result",
          "data": {
            "text/plain": [
              "array([[0., 0., 0., 0., 0., 0., 0., 0., 0., 0.],\n",
              "       [0., 0., 0., 0., 0., 0., 0., 0., 0., 0.]])"
            ]
          },
          "metadata": {},
          "execution_count": 5
        }
      ]
    },
    {
      "cell_type": "code",
      "source": [
        "# 1로 이뤄진 배열을 만든다.\n",
        "\n",
        "np.ones((2,10))"
      ],
      "metadata": {
        "colab": {
          "base_uri": "https://localhost:8080/"
        },
        "id": "YcA04qCckVsb",
        "outputId": "5227e67f-5cd4-4db8-f4e2-682a97610ac6"
      },
      "execution_count": 6,
      "outputs": [
        {
          "output_type": "execute_result",
          "data": {
            "text/plain": [
              "array([[1., 1., 1., 1., 1., 1., 1., 1., 1., 1.],\n",
              "       [1., 1., 1., 1., 1., 1., 1., 1., 1., 1.]])"
            ]
          },
          "metadata": {},
          "execution_count": 6
        }
      ]
    },
    {
      "cell_type": "code",
      "source": [
        "# 특정 범위에 있는 원소를 자동으로 만든다.\n",
        "\n",
        "np.arange(2,10)"
      ],
      "metadata": {
        "colab": {
          "base_uri": "https://localhost:8080/"
        },
        "id": "hsBNXYe6kkwE",
        "outputId": "581c41b4-64b1-46b7-b6ce-23f61429fead"
      },
      "execution_count": 8,
      "outputs": [
        {
          "output_type": "execute_result",
          "data": {
            "text/plain": [
              "array([2, 3, 4, 5, 6, 7, 8, 9])"
            ]
          },
          "metadata": {},
          "execution_count": 8
        }
      ]
    },
    {
      "cell_type": "code",
      "source": [
        "a = np.ones((2,3))\n",
        "\n",
        "b = np.transpose(a)"
      ],
      "metadata": {
        "id": "c17CSNbOk_3r"
      },
      "execution_count": 9,
      "outputs": []
    },
    {
      "cell_type": "code",
      "source": [
        "# 설문지 데이터 전처리 하기\n",
        "\n",
        "# 데이터 전처리란 데이터분석을 좋게 하기 위해 미리 가공하는 일을 말한다.\n",
        "\n",
        "import usecsv\n",
        "\n",
        "os.chdir(r'C:\\Users\\user\\python')  # quest.csv를 저장한 경로로 이동합니다.\n",
        "\n",
        "quest = np.array(usecsv.swich(usecsv.switch(usecsv.opencsv('quest.csv')))  # qeust.csv 파일을 열어 숫자 원소를 실수형으로 바꾼 다음 배열 형태로 quest 객체에 저장합니다.\n",
        "                 \n",
        "quest > 5 # 5 보다 크면 True, 작거나 같으면 False 입니다.\n",
        "\n",
        "quest[quest>5] # 인덱싱을 활용해 5보다 큰수 만 가져온다.\n",
        "\n",
        "quest[quest > 5]  =  5  # 5보다 큰 점수를 만점인 5점으로 바꿉니다.\n",
        "\n",
        "\n",
        "usecsv.writecsv('resultcsv.csv', list(quest)) # 결과물을 다시 'resultcsv.csv' 라는 이름으로 저장합니다. (저장할 이름, 저장할 파일형태)\n",
        "\n",
        "\n"
      ],
      "metadata": {
        "id": "YqvC6sZJozLw"
      },
      "execution_count": null,
      "outputs": []
    }
  ]
}